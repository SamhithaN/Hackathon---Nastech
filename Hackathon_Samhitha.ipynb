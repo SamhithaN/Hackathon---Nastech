{
  "nbformat": 4,
  "nbformat_minor": 0,
  "metadata": {
    "colab": {
      "name": "Hackathon-Samhitha.ipynb",
      "provenance": [],
      "collapsed_sections": [],
      "authorship_tag": "ABX9TyPb4XU4dTW0YhM9cAqohuXy",
      "include_colab_link": true
    },
    "kernelspec": {
      "name": "python3",
      "display_name": "Python 3"
    },
    "language_info": {
      "name": "python"
    }
  },
  "cells": [
    {
      "cell_type": "markdown",
      "metadata": {
        "id": "view-in-github",
        "colab_type": "text"
      },
      "source": [
        "<a href=\"https://colab.research.google.com/github/SamhithaN/Hackathon---Nastech/blob/main/Hackathon_Samhitha.ipynb\" target=\"_parent\"><img src=\"https://colab.research.google.com/assets/colab-badge.svg\" alt=\"Open In Colab\"/></a>"
      ]
    },
    {
      "cell_type": "markdown",
      "metadata": {
        "id": "r8MpkPwRE7xx"
      },
      "source": [
        "# Uploading of data\n",
        "* conversion of file from '.data' to '.csv' has been done with the help of Microsoft excel\n",
        "* upload dataset and save it in a dataframe\n"
      ]
    },
    {
      "cell_type": "code",
      "metadata": {
        "colab": {
          "base_uri": "https://localhost:8080/"
        },
        "id": "dTjwp44j-i8e",
        "outputId": "346a3cdc-6070-4bf7-b6c5-f93c12cc72f3"
      },
      "source": [
        "from google.colab import drive\n",
        "drive.mount('/content/drive/')\n",
        "%cd /content/drive/My Drive/Colab Notebooks/"
      ],
      "execution_count": 105,
      "outputs": [
        {
          "output_type": "stream",
          "name": "stdout",
          "text": [
            "Drive already mounted at /content/drive/; to attempt to forcibly remount, call drive.mount(\"/content/drive/\", force_remount=True).\n",
            "/content/drive/My Drive/Colab Notebooks\n"
          ]
        }
      ]
    },
    {
      "cell_type": "code",
      "metadata": {
        "id": "TJFrOlCS9YPl"
      },
      "source": [
        "import pandas as pd\n",
        "\n",
        "colnames=['age','sex','cp','trestbps','chol','fbs','restecg','thalach','exang','oldpeak','slope','ca','thal','num']\n",
        "data = pd.read_csv('data/cleveland.csv',names=colnames,header=None)"
      ],
      "execution_count": 106,
      "outputs": []
    },
    {
      "cell_type": "markdown",
      "metadata": {
        "id": "Lpbn3Ov716p6"
      },
      "source": [
        "#Pre-processing of dataset"
      ]
    },
    {
      "cell_type": "markdown",
      "metadata": {
        "id": "4uVkn_kn_Lcv"
      },
      "source": [
        "Exploratory data analysis"
      ]
    },
    {
      "cell_type": "code",
      "metadata": {
        "colab": {
          "base_uri": "https://localhost:8080/"
        },
        "id": "a-LubXIa_Mdc",
        "outputId": "28638db9-fb29-49e4-ad3a-88c4b1231239"
      },
      "source": [
        "print(data['num'].unique())\n",
        "print(data.isnull().sum())\n",
        "print(data['ca'].unique())\n",
        "print(data['thal'].unique())"
      ],
      "execution_count": 107,
      "outputs": [
        {
          "output_type": "stream",
          "name": "stdout",
          "text": [
            "[0 2 1 3 4]\n",
            "age         0\n",
            "sex         0\n",
            "cp          0\n",
            "trestbps    0\n",
            "chol        0\n",
            "fbs         0\n",
            "restecg     0\n",
            "thalach     0\n",
            "exang       0\n",
            "oldpeak     0\n",
            "slope       0\n",
            "ca          0\n",
            "thal        0\n",
            "num         0\n",
            "dtype: int64\n",
            "['0' '3' '2' '1' '?']\n",
            "['6' '3' '7' '?']\n"
          ]
        }
      ]
    },
    {
      "cell_type": "markdown",
      "metadata": {
        "id": "ciIVJld-_T_W"
      },
      "source": [
        "Assigning appropriate values for each column"
      ]
    },
    {
      "cell_type": "code",
      "metadata": {
        "colab": {
          "base_uri": "https://localhost:8080/"
        },
        "id": "eIIsUNdJLAVZ",
        "outputId": "1a71b1b1-e79b-4cae-d92a-1307f74f7de1"
      },
      "source": [
        "import numpy as np\n",
        "data['ca'] = data.ca.map({'0': 0, '1': 1, '2': 2, '3': 3, '?': np.nan})\n",
        "data['ca'] = data.ca.fillna(data.ca.mean())\n",
        "data['thal'] = data.thal.map({'3': 3, '6': 6, '7': 7, '?': np.nan})\n",
        "data['thal'] = data.thal.fillna(data.thal.mean())\n",
        "print(data)"
      ],
      "execution_count": 108,
      "outputs": [
        {
          "output_type": "stream",
          "name": "stdout",
          "text": [
            "     age  sex  cp  trestbps  chol  ...  oldpeak  slope        ca  thal  num\n",
            "0     63    1   1       145   233  ...      2.3      3  0.000000   6.0    0\n",
            "1     67    1   4       160   286  ...      1.5      2  3.000000   3.0    2\n",
            "2     67    1   4       120   229  ...      2.6      2  2.000000   7.0    1\n",
            "3     37    1   3       130   250  ...      3.5      3  0.000000   3.0    0\n",
            "4     41    0   2       130   204  ...      1.4      1  0.000000   3.0    0\n",
            "..   ...  ...  ..       ...   ...  ...      ...    ...       ...   ...  ...\n",
            "298   45    1   1       110   264  ...      1.2      2  0.000000   7.0    1\n",
            "299   68    1   4       144   193  ...      3.4      2  2.000000   7.0    2\n",
            "300   57    1   4       130   131  ...      1.2      2  1.000000   7.0    3\n",
            "301   57    0   2       130   236  ...      0.0      2  1.000000   3.0    1\n",
            "302   38    1   3       138   175  ...      0.0      1  0.672241   3.0    0\n",
            "\n",
            "[303 rows x 14 columns]\n"
          ]
        }
      ]
    },
    {
      "cell_type": "markdown",
      "metadata": {
        "id": "6FYKst6C7PYn"
      },
      "source": [
        "## Mapping target values\n",
        "* 0 as 'Negative' \n",
        "* 1 to 4 as 'Positive'"
      ]
    },
    {
      "cell_type": "code",
      "metadata": {
        "id": "23tTenr0Kwh8"
      },
      "source": [
        "data['num'] = data.num.map({0:0,1:1,2:1,3:1,4:1})"
      ],
      "execution_count": 109,
      "outputs": []
    },
    {
      "cell_type": "markdown",
      "metadata": {
        "id": "_Ll3sOZ_OKoT"
      },
      "source": [
        "# Train-test split:\n",
        "* Data is split in the ratio of 80:20 for Train:Test respectively\n",
        "* Selection of this data is done randomly\n"
      ]
    },
    {
      "cell_type": "code",
      "metadata": {
        "id": "OdokM_Nc2_ol"
      },
      "source": [
        "from sklearn.model_selection import train_test_split\n",
        "def split_dataset():  \n",
        "  X = data.drop('num',1).values\n",
        "  y = data['num'].astype(\"int\").values\n",
        "  return train_test_split(X, y, test_size = 0.2, random_state = 0)"
      ],
      "execution_count": 110,
      "outputs": []
    },
    {
      "cell_type": "markdown",
      "metadata": {
        "id": "x-c17VR83OGu"
      },
      "source": [
        "#Training the model\n",
        "* Decision Tree classifier.\n",
        "* This classifier has been chosen as it is well interpretable"
      ]
    },
    {
      "cell_type": "code",
      "metadata": {
        "id": "f4D-HfFnME5N"
      },
      "source": [
        "from sklearn.tree import DecisionTreeClassifier\n",
        "from sklearn.metrics import accuracy_score\n",
        "from sklearn.metrics import log_loss\n",
        "from sklearn.metrics import confusion_matrix\n",
        "\n",
        "def train_model():\n",
        "  X_train, X_test, y_train, y_test = split_dataset()\n",
        "  classifier = DecisionTreeClassifier()\n",
        "  classifier.fit(X_train, y_train)\n",
        "  y_pred = classifier.predict(X_test)\n",
        "  acc = accuracy_score(y_pred, y_test)\n",
        "  \n",
        "  LogLoss = log_loss(y_pred, y_test, eps = 1e-15, normalize = True, sample_weight = None, labels = None)  \n",
        "  cm = confusion_matrix(y_pred, y_test)\n",
        "  \n",
        "  return acc, LogLoss, cm"
      ],
      "execution_count": 111,
      "outputs": []
    },
    {
      "cell_type": "markdown",
      "metadata": {
        "id": "7FLRw7cu3qQA"
      },
      "source": [
        "## Displaying interpretation in - \n",
        "* Image form\n",
        "* Text form"
      ]
    },
    {
      "cell_type": "markdown",
      "metadata": {
        "id": "vWN2QhVw-cVB"
      },
      "source": [
        "Displaying image form of interpretation using matplotlib"
      ]
    },
    {
      "cell_type": "code",
      "metadata": {
        "colab": {
          "base_uri": "https://localhost:8080/",
          "height": 248
        },
        "id": "pSk-9Z02cXGv",
        "outputId": "811ebc1e-1cbf-46d4-a8c6-b083f5a163f6"
      },
      "source": [
        "import matplotlib.pyplot as plt\n",
        "from sklearn import tree\n",
        "\n",
        "tree.plot_tree(classifier,\n",
        "               feature_names = colnames[:-1], \n",
        "               class_names=['No','Yes'],\n",
        "               filled = True);\n",
        "fig.savefig('images/decisiontree.png', dpi=500, bbox_inches = \"tight\")"
      ],
      "execution_count": 112,
      "outputs": [
        {
          "output_type": "display_data",
          "data": {
            "image/png": "[encoded data removed]",
            "text/plain": [
              "<Figure size 432x288 with 1 Axes>"
            ]
          },
          "metadata": {
            "needs_background": "light"
          }
        }
      ]
    },
    {
      "cell_type": "markdown",
      "metadata": {
        "id": "IxWNAWcK-jSs"
      },
      "source": [
        "Displaying text form of tree interpretation"
      ]
    },
    {
      "cell_type": "code",
      "metadata": {
        "colab": {
          "base_uri": "https://localhost:8080/"
        },
        "id": "yDMvdUrG-sE3",
        "outputId": "2378d914-970e-4db7-8afc-bba7623e818a"
      },
      "source": [
        "from sklearn.tree import export_text\n",
        "text_tree = export_text(classifier, feature_names=colnames[:-1])\n",
        "print(text_tree)"
      ],
      "execution_count": 113,
      "outputs": [
        {
          "output_type": "stream",
          "name": "stdout",
          "text": [
            "|--- cp <= 3.50\n",
            "|   |--- thal <= 5.37\n",
            "|   |   |--- oldpeak <= 3.55\n",
            "|   |   |   |--- age <= 56.50\n",
            "|   |   |   |   |--- chol <= 153.00\n",
            "|   |   |   |   |   |--- oldpeak <= 0.70\n",
            "|   |   |   |   |   |   |--- class: 0\n",
            "|   |   |   |   |   |--- oldpeak >  0.70\n",
            "|   |   |   |   |   |   |--- class: 1\n",
            "|   |   |   |   |--- chol >  153.00\n",
            "|   |   |   |   |   |--- class: 0\n",
            "|   |   |   |--- age >  56.50\n",
            "|   |   |   |   |--- age <= 58.50\n",
            "|   |   |   |   |   |--- ca <= 0.50\n",
            "|   |   |   |   |   |   |--- class: 0\n",
            "|   |   |   |   |   |--- ca >  0.50\n",
            "|   |   |   |   |   |   |--- class: 1\n",
            "|   |   |   |   |--- age >  58.50\n",
            "|   |   |   |   |   |--- sex <= 0.50\n",
            "|   |   |   |   |   |   |--- class: 0\n",
            "|   |   |   |   |   |--- sex >  0.50\n",
            "|   |   |   |   |   |   |--- chol <= 259.00\n",
            "|   |   |   |   |   |   |   |--- ca <= 1.50\n",
            "|   |   |   |   |   |   |   |   |--- class: 0\n",
            "|   |   |   |   |   |   |   |--- ca >  1.50\n",
            "|   |   |   |   |   |   |   |   |--- class: 1\n",
            "|   |   |   |   |   |   |--- chol >  259.00\n",
            "|   |   |   |   |   |   |   |--- class: 1\n",
            "|   |   |--- oldpeak >  3.55\n",
            "|   |   |   |--- class: 1\n",
            "|   |--- thal >  5.37\n",
            "|   |   |--- thalach <= 142.50\n",
            "|   |   |   |--- oldpeak <= 0.25\n",
            "|   |   |   |   |--- exang <= 0.50\n",
            "|   |   |   |   |   |--- class: 0\n",
            "|   |   |   |   |--- exang >  0.50\n",
            "|   |   |   |   |   |--- class: 1\n",
            "|   |   |   |--- oldpeak >  0.25\n",
            "|   |   |   |   |--- class: 1\n",
            "|   |   |--- thalach >  142.50\n",
            "|   |   |   |--- ca <= 1.50\n",
            "|   |   |   |   |--- slope <= 1.50\n",
            "|   |   |   |   |   |--- class: 0\n",
            "|   |   |   |   |--- slope >  1.50\n",
            "|   |   |   |   |   |--- age <= 65.00\n",
            "|   |   |   |   |   |   |--- ca <= 0.84\n",
            "|   |   |   |   |   |   |   |--- age <= 50.00\n",
            "|   |   |   |   |   |   |   |   |--- thalach <= 188.00\n",
            "|   |   |   |   |   |   |   |   |   |--- class: 1\n",
            "|   |   |   |   |   |   |   |   |--- thalach >  188.00\n",
            "|   |   |   |   |   |   |   |   |   |--- class: 0\n",
            "|   |   |   |   |   |   |   |--- age >  50.00\n",
            "|   |   |   |   |   |   |   |   |--- oldpeak <= 0.30\n",
            "|   |   |   |   |   |   |   |   |   |--- trestbps <= 144.00\n",
            "|   |   |   |   |   |   |   |   |   |   |--- class: 0\n",
            "|   |   |   |   |   |   |   |   |   |--- trestbps >  144.00\n",
            "|   |   |   |   |   |   |   |   |   |   |--- class: 1\n",
            "|   |   |   |   |   |   |   |   |--- oldpeak >  0.30\n",
            "|   |   |   |   |   |   |   |   |   |--- class: 0\n",
            "|   |   |   |   |   |   |--- ca >  0.84\n",
            "|   |   |   |   |   |   |   |--- class: 1\n",
            "|   |   |   |   |   |--- age >  65.00\n",
            "|   |   |   |   |   |   |--- class: 1\n",
            "|   |   |   |--- ca >  1.50\n",
            "|   |   |   |   |--- class: 1\n",
            "|--- cp >  3.50\n",
            "|   |--- ca <= 0.34\n",
            "|   |   |--- exang <= 0.50\n",
            "|   |   |   |--- thal <= 6.50\n",
            "|   |   |   |   |--- chol <= 304.00\n",
            "|   |   |   |   |   |--- class: 0\n",
            "|   |   |   |   |--- chol >  304.00\n",
            "|   |   |   |   |   |--- thalach <= 159.00\n",
            "|   |   |   |   |   |   |--- class: 0\n",
            "|   |   |   |   |   |--- thalach >  159.00\n",
            "|   |   |   |   |   |   |--- class: 1\n",
            "|   |   |   |--- thal >  6.50\n",
            "|   |   |   |   |--- age <= 54.50\n",
            "|   |   |   |   |   |--- chol <= 215.00\n",
            "|   |   |   |   |   |   |--- restecg <= 1.00\n",
            "|   |   |   |   |   |   |   |--- class: 0\n",
            "|   |   |   |   |   |   |--- restecg >  1.00\n",
            "|   |   |   |   |   |   |   |--- class: 1\n",
            "|   |   |   |   |   |--- chol >  215.00\n",
            "|   |   |   |   |   |   |--- class: 1\n",
            "|   |   |   |   |--- age >  54.50\n",
            "|   |   |   |   |   |--- class: 0\n",
            "|   |   |--- exang >  0.50\n",
            "|   |   |   |--- trestbps <= 115.00\n",
            "|   |   |   |   |--- thalach <= 120.00\n",
            "|   |   |   |   |   |--- class: 1\n",
            "|   |   |   |   |--- thalach >  120.00\n",
            "|   |   |   |   |   |--- class: 0\n",
            "|   |   |   |--- trestbps >  115.00\n",
            "|   |   |   |   |--- oldpeak <= 0.50\n",
            "|   |   |   |   |   |--- sex <= 0.50\n",
            "|   |   |   |   |   |   |--- age <= 51.00\n",
            "|   |   |   |   |   |   |   |--- class: 0\n",
            "|   |   |   |   |   |   |--- age >  51.00\n",
            "|   |   |   |   |   |   |   |--- class: 1\n",
            "|   |   |   |   |   |--- sex >  0.50\n",
            "|   |   |   |   |   |   |--- class: 0\n",
            "|   |   |   |   |--- oldpeak >  0.50\n",
            "|   |   |   |   |   |--- class: 1\n",
            "|   |--- ca >  0.34\n",
            "|   |   |--- oldpeak <= 0.45\n",
            "|   |   |   |--- trestbps <= 109.00\n",
            "|   |   |   |   |--- class: 0\n",
            "|   |   |   |--- trestbps >  109.00\n",
            "|   |   |   |   |--- sex <= 0.50\n",
            "|   |   |   |   |   |--- class: 0\n",
            "|   |   |   |   |--- sex >  0.50\n",
            "|   |   |   |   |   |--- thalach <= 118.50\n",
            "|   |   |   |   |   |   |--- class: 0\n",
            "|   |   |   |   |   |--- thalach >  118.50\n",
            "|   |   |   |   |   |   |--- class: 1\n",
            "|   |   |--- oldpeak >  0.45\n",
            "|   |   |   |--- class: 1\n",
            "\n"
          ]
        }
      ]
    },
    {
      "cell_type": "markdown",
      "metadata": {
        "id": "8QdAwMW74lH5"
      },
      "source": [
        "# Calculating average accuracy"
      ]
    },
    {
      "cell_type": "code",
      "metadata": {
        "colab": {
          "base_uri": "https://localhost:8080/"
        },
        "id": "GzA6FMDByxX1",
        "outputId": "a861f149-9377-45f9-8ed7-083ebf35ee80"
      },
      "source": [
        "current_acc, sum_acc = 0,0\n",
        "for i in range(10):\n",
        "  current_acc,ll,cm = train_model()\n",
        "  sum_acc = sum_acc + current_acc\n",
        "\n",
        "print(\"Average accuracy: \", sum_acc/10)"
      ],
      "execution_count": 114,
      "outputs": [
        {
          "output_type": "stream",
          "name": "stdout",
          "text": [
            "Average accuracy:  0.7754098360655737\n"
          ]
        }
      ]
    },
    {
      "cell_type": "markdown",
      "metadata": {
        "id": "-x665N_D4cpi"
      },
      "source": [
        "# Printing Log loss"
      ]
    },
    {
      "cell_type": "code",
      "metadata": {
        "colab": {
          "base_uri": "https://localhost:8080/"
        },
        "id": "IoaPfJIvlk-w",
        "outputId": "e2ef6cbc-ecbd-42a8-c5e9-a947ad843008"
      },
      "source": [
        "print(\"Log loss \", ll)"
      ],
      "execution_count": 115,
      "outputs": [
        {
          "output_type": "stream",
          "name": "stdout",
          "text": [
            "Log loss  8.493246601690194\n"
          ]
        }
      ]
    },
    {
      "cell_type": "markdown",
      "metadata": {
        "id": "xdNPHEbJ4rdT"
      },
      "source": [
        "# Printing confusion matrix"
      ]
    },
    {
      "cell_type": "code",
      "metadata": {
        "colab": {
          "base_uri": "https://localhost:8080/"
        },
        "id": "AuTYl3vC1gmc",
        "outputId": "7dfe6969-ea54-40e1-987e-97636a4c6d78"
      },
      "source": [
        "print(\"Confusion Matrix:\\n\",cm)"
      ],
      "execution_count": 116,
      "outputs": [
        {
          "output_type": "stream",
          "name": "stdout",
          "text": [
            "Confusion Matrix:\n",
            " [[28  8]\n",
            " [ 7 18]]\n"
          ]
        }
      ]
    }
  ]
}